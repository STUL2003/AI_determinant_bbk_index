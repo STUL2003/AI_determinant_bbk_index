{
 "cells": [
  {
   "cell_type": "markdown",
   "id": "eebc7f8c",
   "metadata": {},
   "source": [
    "## Создание CSV файла для дообучения"
   ]
  },
  {
   "cell_type": "code",
   "execution_count": 2,
   "id": "1e763017",
   "metadata": {},
   "outputs": [],
   "source": [
    "import pandas as pd"
   ]
  },
  {
   "cell_type": "code",
   "execution_count": 3,
   "id": "261d521c",
   "metadata": {},
   "outputs": [],
   "source": [
    "import os\n",
    "data = []\n",
    "for f in os.walk(\"books\"):\n",
    "    for f_ in f[2]:\n",
    "        p = f_\n",
    "        s1 = f_.find('(')\n",
    "        s2 = f_.find(')')\n",
    "        if(s1 != -1 and s2 != -1):\n",
    "            f_ = f_[:s1] + f_[s2+1:]\n",
    "        data.append({'path':'books\\\\'+p, 'id': f_})"
   ]
  },
  {
   "cell_type": "code",
   "execution_count": 4,
   "id": "7415fd2f",
   "metadata": {},
   "outputs": [
    {
     "data": {
      "text/html": [
       "<div>\n",
       "<style scoped>\n",
       "    .dataframe tbody tr th:only-of-type {\n",
       "        vertical-align: middle;\n",
       "    }\n",
       "\n",
       "    .dataframe tbody tr th {\n",
       "        vertical-align: top;\n",
       "    }\n",
       "\n",
       "    .dataframe thead th {\n",
       "        text-align: right;\n",
       "    }\n",
       "</style>\n",
       "<table border=\"1\" class=\"dataframe\">\n",
       "  <thead>\n",
       "    <tr style=\"text-align: right;\">\n",
       "      <th></th>\n",
       "      <th>path</th>\n",
       "      <th>id</th>\n",
       "    </tr>\n",
       "  </thead>\n",
       "  <tbody>\n",
       "    <tr>\n",
       "      <th>0</th>\n",
       "      <td>books\\22.1.pdf</td>\n",
       "      <td>22.1.pdf</td>\n",
       "    </tr>\n",
       "    <tr>\n",
       "      <th>1</th>\n",
       "      <td>books\\22.12.pdf</td>\n",
       "      <td>22.12.pdf</td>\n",
       "    </tr>\n",
       "    <tr>\n",
       "      <th>2</th>\n",
       "      <td>books\\22.123.pdf</td>\n",
       "      <td>22.123.pdf</td>\n",
       "    </tr>\n",
       "    <tr>\n",
       "      <th>3</th>\n",
       "      <td>books\\22.124.pdf</td>\n",
       "      <td>22.124.pdf</td>\n",
       "    </tr>\n",
       "    <tr>\n",
       "      <th>4</th>\n",
       "      <td>books\\22.126.pdf</td>\n",
       "      <td>22.126.pdf</td>\n",
       "    </tr>\n",
       "  </tbody>\n",
       "</table>\n",
       "</div>"
      ],
      "text/plain": [
       "               path          id\n",
       "0    books\\22.1.pdf    22.1.pdf\n",
       "1   books\\22.12.pdf   22.12.pdf\n",
       "2  books\\22.123.pdf  22.123.pdf\n",
       "3  books\\22.124.pdf  22.124.pdf\n",
       "4  books\\22.126.pdf  22.126.pdf"
      ]
     },
     "execution_count": 4,
     "metadata": {},
     "output_type": "execute_result"
    }
   ],
   "source": [
    "df = pd.DataFrame(data)\n",
    "df.head()"
   ]
  },
  {
   "cell_type": "code",
   "execution_count": 5,
   "id": "9f097053",
   "metadata": {},
   "outputs": [],
   "source": [
    "df.to_csv('books.csv', index=False)"
   ]
  }
 ],
 "metadata": {
  "kernelspec": {
   "display_name": "Python 3",
   "language": "python",
   "name": "python3"
  },
  "language_info": {
   "codemirror_mode": {
    "name": "ipython",
    "version": 3
   },
   "file_extension": ".py",
   "mimetype": "text/x-python",
   "name": "python",
   "nbconvert_exporter": "python",
   "pygments_lexer": "ipython3",
   "version": "3.12.10"
  }
 },
 "nbformat": 4,
 "nbformat_minor": 5
}
